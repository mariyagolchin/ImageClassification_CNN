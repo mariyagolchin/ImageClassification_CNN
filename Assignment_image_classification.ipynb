{
  "nbformat": 4,
  "nbformat_minor": 0,
  "metadata": {
    "colab": {
      "provenance": []
    },
    "kernelspec": {
      "name": "python3",
      "display_name": "Python 3"
    },
    "language_info": {
      "name": "python"
    }
  },
  "cells": [
    {
      "cell_type": "markdown",
      "source": [
        "https://github.com/Coding-Lane/Image-Classification-CNN-Keras\n",
        "\n",
        "Dataset Used: https://bit.ly/ImgClsKeras"
      ],
      "metadata": {
        "id": "-j9XS9JwaZKI"
      }
    },
    {
      "cell_type": "markdown",
      "source": [
        "# Assignment: image classification\n",
        "\n",
        "Implement a CNN using Keras on top of TensorFlow to create a binary image classification model for predicting whether a given picture is of a cat or a dog."
      ],
      "metadata": {
        "id": "-mY8mX1Q2DU1"
      }
    },
    {
      "cell_type": "code",
      "source": [
        "from google.colab import drive\n",
        "drive.mount('/content/drive')"
      ],
      "metadata": {
        "id": "10LID3Eck0PH",
        "outputId": "3d3ea5f1-9ab0-4937-9b10-53cd4d449bdc",
        "colab": {
          "base_uri": "https://localhost:8080/"
        }
      },
      "execution_count": 3,
      "outputs": [
        {
          "output_type": "stream",
          "name": "stdout",
          "text": [
            "Mounted at /content/drive\n"
          ]
        }
      ]
    },
    {
      "cell_type": "code",
      "execution_count": 1,
      "metadata": {
        "id": "1XlpUhgLzsNt"
      },
      "outputs": [],
      "source": [
        "import numpy as np\n",
        "import random\n",
        "import matplotlib.pyplot as plt\n",
        "from tensorflow.keras.models import Sequential\n",
        "from tensorflow.keras.layers import Conv2D, Activation, MaxPooling2D, Dense, Flatten\n",
        "from tensorflow.keras.preprocessing.image import ImageDataGenerator"
      ]
    },
    {
      "cell_type": "markdown",
      "source": [
        "# Load Dataset"
      ],
      "metadata": {
        "id": "Sq6HDwU6z-_-"
      }
    },
    {
      "cell_type": "code",
      "source": [
        "X_train = np.loadtxt('/content/drive/MyDrive/Image Classification CNN Keras Dataset/input.csv', delimiter = ',')\n",
        "Y_train = np.loadtxt('/content/drive/MyDrive/Image Classification CNN Keras Dataset/labels.csv', delimiter = ',')\n",
        "\n",
        "X_test = np.loadtxt('/content/drive/MyDrive/Image Classification CNN Keras Dataset/input_test.csv', delimiter = ',')\n",
        "Y_test = np.loadtxt('/content/drive/MyDrive/Image Classification CNN Keras Dataset/labels_test.csv', delimiter = ',')"
      ],
      "metadata": {
        "id": "H4WeJRxG0BzL"
      },
      "execution_count": 4,
      "outputs": []
    },
    {
      "cell_type": "code",
      "source": [
        "print(len(X_train))"
      ],
      "metadata": {
        "colab": {
          "base_uri": "https://localhost:8080/"
        },
        "id": "ZWQKk7lQ-Xpj",
        "outputId": "c3fd30f0-a13f-4528-ad3c-5e6965fdcb69"
      },
      "execution_count": null,
      "outputs": [
        {
          "output_type": "stream",
          "name": "stdout",
          "text": [
            "2000\n"
          ]
        }
      ]
    },
    {
      "cell_type": "code",
      "source": [
        "X_train = X_train.reshape(len(X_train), 100, 100, 3)\n",
        "Y_train = Y_train.reshape(len(Y_train), 1)\n",
        "\n",
        "X_test = X_test.reshape(len(X_test), 100, 100, 3)\n",
        "Y_test = Y_test.reshape(len(Y_test), 1)\n",
        "#Normalization:\n",
        "\n",
        "#The pixel values in images are typically in the range of 0 to 255. Normalizing the pixel values to the range [0, 1] is a common preprocessing step in machine learning.\n",
        "#By dividing X_train and X_test by 255.0, the pixel values are scaled to the range [0, 1]. This normalization helps in training neural networks more effectively, as it ensures that the input values are within a similar scale.\n",
        "X_train = X_train/255.0\n",
        "X_test = X_test/255.0"
      ],
      "metadata": {
        "id": "-zJFxNok-Ilr"
      },
      "execution_count": 5,
      "outputs": []
    },
    {
      "cell_type": "code",
      "source": [
        "print(\"Shape of X_train: \", X_train.shape)\n",
        "print(\"Shape of Y_train: \", Y_train.shape)\n",
        "print(\"Shape of X_test: \", X_test.shape)\n",
        "print(\"Shape of Y_test: \", Y_test.shape)"
      ],
      "metadata": {
        "colab": {
          "base_uri": "https://localhost:8080/"
        },
        "id": "-OclBM6l0pBZ",
        "outputId": "ca4b6980-4dc0-434d-9d7a-3bf0fbf6d0a2"
      },
      "execution_count": 6,
      "outputs": [
        {
          "output_type": "stream",
          "name": "stdout",
          "text": [
            "Shape of X_train:  (2000, 100, 100, 3)\n",
            "Shape of Y_train:  (2000, 1)\n",
            "Shape of X_test:  (400, 100, 100, 3)\n",
            "Shape of Y_test:  (400, 1)\n"
          ]
        }
      ]
    },
    {
      "cell_type": "code",
      "source": [
        "idx = random.randint(0, len(X_train))\n",
        "plt.imshow(X_train[idx, :])\n",
        "plt.show()"
      ],
      "metadata": {
        "colab": {
          "base_uri": "https://localhost:8080/",
          "height": 433
        },
        "id": "eDMgIyGaQAiM",
        "outputId": "185df077-51e2-4c51-9b3a-e3a310c2be37"
      },
      "execution_count": 7,
      "outputs": [
        {
          "output_type": "display_data",
          "data": {
            "text/plain": [
              "<Figure size 640x480 with 1 Axes>"
            ],
            "image/png": "[encoded data removed]"
          },
          "metadata": {}
        }
      ]
    },
    {
      "cell_type": "code",
      "source": [
        "#print(\"Shape of X_train: \", X_train[1:7])"
      ],
      "metadata": {
        "id": "PpiSw1x40zOw"
      },
      "execution_count": null,
      "outputs": []
    },
    {
      "cell_type": "code",
      "source": [
        "print(\"Shape of X_train: \", Y_train[1:7])\n"
      ],
      "metadata": {
        "colab": {
          "base_uri": "https://localhost:8080/"
        },
        "id": "sQPA2F6w0sm3",
        "outputId": "f396ef17-c22f-44b3-8ca6-7a319f76633f"
      },
      "execution_count": 8,
      "outputs": [
        {
          "output_type": "stream",
          "name": "stdout",
          "text": [
            "Shape of X_train:  [[0.]\n",
            " [0.]\n",
            " [0.]\n",
            " [0.]\n",
            " [0.]\n",
            " [0.]]\n"
          ]
        }
      ]
    },
    {
      "cell_type": "markdown",
      "source": [
        "# **Model**"
      ],
      "metadata": {
        "id": "wWXTXv3v1FzO"
      }
    },
    {
      "cell_type": "code",
      "source": [
        "from tensorflow.keras.models import Sequential\n",
        "from tensorflow.keras.layers import Conv2D, Activation, MaxPooling2D, Flatten, Dense\n",
        "\n",
        "# Assuming your data represents grayscale images with dimensions 100x100\n",
        "#height, width, channels = 100, 100, 1\n",
        "\n",
        "model = Sequential([\n",
        "    # Convolutional layers\n",
        "    #input_shape=(height, width, channels)\n",
        "    #nput_shape = (100, 100, 3)\n",
        "    #his indicates that each sample in your dataset is an image with dimensions 100x100 pixels and 3 color channels (assuming RGB images)\n",
        "    Conv2D(32, (3, 3), input_shape = (100, 100, 3) ),\n",
        "    Activation('relu'),\n",
        "    MaxPooling2D(pool_size=(2, 2)),\n",
        "\n",
        "    Conv2D(64, (3, 3)),\n",
        "    Activation('relu'),\n",
        "    MaxPooling2D(pool_size=(2, 2)),\n",
        "\n",
        "    Conv2D(128, (3, 3)),\n",
        "    Activation('relu'),\n",
        "    MaxPooling2D(pool_size=(2, 2)),\n",
        "\n",
        "    # Flatten layer to transition from convolutional to fully connected layers\n",
        "    Flatten(),\n",
        "\n",
        "    # Fully connected layers\n",
        "    Dense(64),\n",
        "    Activation('relu'),\n",
        "\n",
        "    # Output layer with sigmoid activation for binary classification\n",
        "    Dense(1, activation='sigmoid')\n",
        "])\n",
        "\n",
        "# Compile the model with an appropriate optimizer, loss function, and metrics\n",
        "model.compile(optimizer='adam', loss='binary_crossentropy', metrics=['accuracy'])\n",
        "\n",
        "# Display the model summary\n",
        "model.summary()\n"
      ],
      "metadata": {
        "id": "-b4Bg8N-1H1H",
        "colab": {
          "base_uri": "https://localhost:8080/"
        },
        "outputId": "459705d1-8754-4d11-b390-0adcecc62691"
      },
      "execution_count": 9,
      "outputs": [
        {
          "output_type": "stream",
          "name": "stdout",
          "text": [
            "Model: \"sequential\"\n",
            "_________________________________________________________________\n",
            " Layer (type)                Output Shape              Param #   \n",
            "=================================================================\n",
            " conv2d (Conv2D)             (None, 98, 98, 32)        896       \n",
            "                                                                 \n",
            " activation (Activation)     (None, 98, 98, 32)        0         \n",
            "                                                                 \n",
            " max_pooling2d (MaxPooling2  (None, 49, 49, 32)        0         \n",
            " D)                                                              \n",
            "                                                                 \n",
            " conv2d_1 (Conv2D)           (None, 47, 47, 64)        18496     \n",
            "                                                                 \n",
            " activation_1 (Activation)   (None, 47, 47, 64)        0         \n",
            "                                                                 \n",
            " max_pooling2d_1 (MaxPoolin  (None, 23, 23, 64)        0         \n",
            " g2D)                                                            \n",
            "                                                                 \n",
            " conv2d_2 (Conv2D)           (None, 21, 21, 128)       73856     \n",
            "                                                                 \n",
            " activation_2 (Activation)   (None, 21, 21, 128)       0         \n",
            "                                                                 \n",
            " max_pooling2d_2 (MaxPoolin  (None, 10, 10, 128)       0         \n",
            " g2D)                                                            \n",
            "                                                                 \n",
            " flatten (Flatten)           (None, 12800)             0         \n",
            "                                                                 \n",
            " dense (Dense)               (None, 64)                819264    \n",
            "                                                                 \n",
            " activation_3 (Activation)   (None, 64)                0         \n",
            "                                                                 \n",
            " dense_1 (Dense)             (None, 1)                 65        \n",
            "                                                                 \n",
            "=================================================================\n",
            "Total params: 912577 (3.48 MB)\n",
            "Trainable params: 912577 (3.48 MB)\n",
            "Non-trainable params: 0 (0.00 Byte)\n",
            "_________________________________________________________________\n"
          ]
        }
      ]
    },
    {
      "cell_type": "code",
      "source": [
        "from tensorflow.keras.optimizers import Adam\n"
      ],
      "metadata": {
        "id": "OZwvzF9i8sFb"
      },
      "execution_count": 10,
      "outputs": []
    },
    {
      "cell_type": "code",
      "source": [
        "# Compile the model\n",
        "model.compile(optimizer=Adam(), loss='binary_crossentropy', metrics=['accuracy'])\n",
        "#Assuming you have labels Y_train and Y_test for your training and testing data"
      ],
      "metadata": {
        "id": "OIpH5nVw1KSe"
      },
      "execution_count": 11,
      "outputs": []
    },
    {
      "cell_type": "code",
      "source": [
        "# Train the model\n",
        "model.fit(X_train, Y_train, epochs=5, batch_size=32, validation_split=0.2)\n"
      ],
      "metadata": {
        "id": "N-OCf0wt1Lvm",
        "colab": {
          "base_uri": "https://localhost:8080/"
        },
        "outputId": "73b12ce6-0910-4878-e732-6ac6109c14a4"
      },
      "execution_count": 12,
      "outputs": [
        {
          "output_type": "stream",
          "name": "stdout",
          "text": [
            "Epoch 1/5\n",
            "50/50 [==============================] - 47s 843ms/step - loss: 0.6750 - accuracy: 0.6137 - val_loss: 0.8245 - val_accuracy: 0.0000e+00\n",
            "Epoch 2/5\n",
            "50/50 [==============================] - 35s 701ms/step - loss: 0.6508 - accuracy: 0.6250 - val_loss: 0.9915 - val_accuracy: 0.0100\n",
            "Epoch 3/5\n",
            "50/50 [==============================] - 35s 705ms/step - loss: 0.6207 - accuracy: 0.6513 - val_loss: 0.9097 - val_accuracy: 0.3475\n",
            "Epoch 4/5\n",
            "50/50 [==============================] - 38s 769ms/step - loss: 0.5874 - accuracy: 0.6844 - val_loss: 0.7064 - val_accuracy: 0.5825\n",
            "Epoch 5/5\n",
            "50/50 [==============================] - 37s 727ms/step - loss: 0.5603 - accuracy: 0.7138 - val_loss: 0.8296 - val_accuracy: 0.4900\n"
          ]
        },
        {
          "output_type": "execute_result",
          "data": {
            "text/plain": [
              "<keras.src.callbacks.History at 0x785f885de590>"
            ]
          },
          "metadata": {},
          "execution_count": 12
        }
      ]
    },
    {
      "cell_type": "code",
      "source": [
        "model.evaluate(X_test, Y_test) #epochs=10, batch_size=32, validation_split=0.2"
      ],
      "metadata": {
        "colab": {
          "base_uri": "https://localhost:8080/"
        },
        "id": "pzWcMYz7IRiH",
        "outputId": "d8312b4f-15f9-4a2e-8d2f-0db9d14055b6"
      },
      "execution_count": 13,
      "outputs": [
        {
          "output_type": "stream",
          "name": "stdout",
          "text": [
            "13/13 [==============================] - 2s 149ms/step - loss: 0.6436 - accuracy: 0.6575\n"
          ]
        },
        {
          "output_type": "execute_result",
          "data": {
            "text/plain": [
              "[0.6436384320259094, 0.6575000286102295]"
            ]
          },
          "metadata": {},
          "execution_count": 13
        }
      ]
    },
    {
      "cell_type": "code",
      "source": [
        "# Train the model\n",
        "model.fit(X_train, Y_train, epochs=5, batch_size=64, validation_split=0.2)"
      ],
      "metadata": {
        "colab": {
          "base_uri": "https://localhost:8080/"
        },
        "id": "MKlXUqG8SkAi",
        "outputId": "3816f0e7-629e-4785-9644-20a281ca205f"
      },
      "execution_count": 14,
      "outputs": [
        {
          "output_type": "stream",
          "name": "stdout",
          "text": [
            "Epoch 1/5\n",
            "25/25 [==============================] - 36s 1s/step - loss: 0.5110 - accuracy: 0.7525 - val_loss: 1.2574 - val_accuracy: 0.2650\n",
            "Epoch 2/5\n",
            "25/25 [==============================] - 38s 2s/step - loss: 0.4728 - accuracy: 0.7725 - val_loss: 0.7757 - val_accuracy: 0.5850\n",
            "Epoch 3/5\n",
            "25/25 [==============================] - 35s 1s/step - loss: 0.4329 - accuracy: 0.7925 - val_loss: 0.7489 - val_accuracy: 0.6250\n",
            "Epoch 4/5\n",
            "25/25 [==============================] - 34s 1s/step - loss: 0.3977 - accuracy: 0.8200 - val_loss: 0.6981 - val_accuracy: 0.6325\n",
            "Epoch 5/5\n",
            "25/25 [==============================] - 35s 1s/step - loss: 0.3648 - accuracy: 0.8406 - val_loss: 0.9451 - val_accuracy: 0.5550\n"
          ]
        },
        {
          "output_type": "execute_result",
          "data": {
            "text/plain": [
              "<keras.src.callbacks.History at 0x785f841af5e0>"
            ]
          },
          "metadata": {},
          "execution_count": 14
        }
      ]
    },
    {
      "cell_type": "code",
      "source": [
        "model.evaluate(X_test, Y_test)#pochs=10, batch_size=64, validation_split=0.2"
      ],
      "metadata": {
        "colab": {
          "base_uri": "https://localhost:8080/"
        },
        "id": "BWdnkEDJSqBI",
        "outputId": "85a02ac9-69d7-44df-dd14-4f783010b35c"
      },
      "execution_count": null,
      "outputs": [
        {
          "output_type": "stream",
          "name": "stdout",
          "text": [
            "13/13 [==============================] - 3s 257ms/step - loss: 0.5951 - accuracy: 0.6875\n"
          ]
        },
        {
          "output_type": "execute_result",
          "data": {
            "text/plain": [
              "[0.5950837135314941, 0.6875]"
            ]
          },
          "metadata": {},
          "execution_count": 59
        }
      ]
    },
    {
      "cell_type": "markdown",
      "source": [
        "# Main Model"
      ],
      "metadata": {
        "id": "pBQHXwN3tsL5"
      }
    },
    {
      "cell_type": "code",
      "source": [
        "model = Sequential()\n",
        "\n",
        "model.add(Conv2D(32, (3,3), activation = 'relu', input_shape = (100, 100, 3)))\n",
        "model.add(MaxPooling2D((2,2)))\n",
        "\n",
        "model.add(Conv2D(32, (3,3), activation = 'relu'))\n",
        "model.add(MaxPooling2D((2,2)))\n",
        "\n",
        "model.add(Conv2D(32, (3,3), activation = 'relu'))\n",
        "model.add(MaxPooling2D((2,2)))\n",
        "\n",
        "model.add(Conv2D(32, (3,3), activation = 'relu'))\n",
        "model.add(MaxPooling2D((2,2)))\n",
        "\n",
        "model.add(Conv2D(32, (3,3), activation = 'relu'))\n",
        "model.add(MaxPooling2D((2,2)))\n",
        "\n",
        "model.add(Flatten())\n",
        "model.add(Dense(64, activation = 'relu'))\n",
        "model.add(Dense(1, activation = 'sigmoid'))"
      ],
      "metadata": {
        "id": "oG19vQkFVdEf"
      },
      "execution_count": 25,
      "outputs": []
    },
    {
      "cell_type": "code",
      "source": [
        "model.compile(loss = 'binary_crossentropy', optimizer = 'adam', metrics = ['accuracy'])"
      ],
      "metadata": {
        "id": "kVoaG_NtVfwO"
      },
      "execution_count": 26,
      "outputs": []
    },
    {
      "cell_type": "code",
      "source": [
        "model.fit(X_train, Y_train, epochs = 5, batch_size = 64)"
      ],
      "metadata": {
        "colab": {
          "base_uri": "https://localhost:8080/"
        },
        "id": "h3qLaYr0Vij3",
        "outputId": "0ecfe930-2190-4f04-954a-ea87da3d7328"
      },
      "execution_count": 27,
      "outputs": [
        {
          "output_type": "stream",
          "name": "stdout",
          "text": [
            "Epoch 1/5\n",
            "32/32 [==============================] - 25s 740ms/step - loss: 0.6937 - accuracy: 0.5035\n",
            "Epoch 2/5\n",
            "32/32 [==============================] - 27s 845ms/step - loss: 0.6925 - accuracy: 0.5425\n",
            "Epoch 3/5\n",
            "32/32 [==============================] - 24s 739ms/step - loss: 0.6916 - accuracy: 0.5250\n",
            "Epoch 4/5\n",
            "32/32 [==============================] - 25s 779ms/step - loss: 0.6854 - accuracy: 0.5625\n",
            "Epoch 5/5\n",
            "32/32 [==============================] - 26s 809ms/step - loss: 0.6782 - accuracy: 0.5840\n"
          ]
        },
        {
          "output_type": "execute_result",
          "data": {
            "text/plain": [
              "<keras.src.callbacks.History at 0x785f88b4a260>"
            ]
          },
          "metadata": {},
          "execution_count": 27
        }
      ]
    },
    {
      "cell_type": "code",
      "source": [
        "model.evaluate(X_test, Y_test)"
      ],
      "metadata": {
        "colab": {
          "base_uri": "https://localhost:8080/"
        },
        "id": "_igkpVllXbAh",
        "outputId": "cc2c531c-933d-408c-e281-fc4c3e3b6c89"
      },
      "execution_count": 24,
      "outputs": [
        {
          "output_type": "stream",
          "name": "stdout",
          "text": [
            "13/13 [==============================] - 1s 87ms/step - loss: 0.6355 - accuracy: 0.6400\n"
          ]
        },
        {
          "output_type": "execute_result",
          "data": {
            "text/plain": [
              "[0.6354970335960388, 0.6399999856948853]"
            ]
          },
          "metadata": {},
          "execution_count": 24
        }
      ]
    },
    {
      "cell_type": "markdown",
      "source": [
        "# Making predictions"
      ],
      "metadata": {
        "id": "fYvRGgVqPxTi"
      }
    },
    {
      "cell_type": "code",
      "source": [
        "idx2 = random.randint(0, len(Y_test))\n",
        "plt.imshow(X_test[idx2, :])\n",
        "plt.show()\n",
        "\n",
        "y_pred = model.predict(X_test[idx2, :].reshape(1, 100, 100, 3))\n",
        "y_pred = y_pred > 0.5\n",
        "\n",
        "if(y_pred == 0):\n",
        "    pred = 'dog'\n",
        "else:\n",
        "    pred = 'cat'\n",
        "\n",
        "print(\"Our model says it is a :\", pred)"
      ],
      "metadata": {
        "colab": {
          "base_uri": "https://localhost:8080/",
          "height": 468
        },
        "id": "2PWd5iMKPuFj",
        "outputId": "48154e92-58b3-4b94-b2f2-02be4a10dea9"
      },
      "execution_count": 19,
      "outputs": [
        {
          "output_type": "display_data",
          "data": {
            "text/plain": [
              "<Figure size 640x480 with 1 Axes>"
            ],
            "image/png": "[encoded data removed]"
          },
          "metadata": {}
        },
        {
          "output_type": "stream",
          "name": "stdout",
          "text": [
            "1/1 [==============================] - 0s 156ms/step\n",
            "Our model says it is a : dog\n"
          ]
        }
      ]
    },
    {
      "cell_type": "markdown",
      "source": [],
      "metadata": {
        "id": "Sxe3bimG1Nim"
      }
    },
    {
      "cell_type": "code",
      "source": [
        "import numpy as np\n",
        "import random\n",
        "import matplotlib.pyplot as plt\n",
        "from tensorflow.keras.models import Sequential\n",
        "from tensorflow.keras.layers import Conv2D, Activation, MaxPooling2D, Dense, Flatten\n",
        "from tensorflow.keras.preprocessing.image import ImageDataGenerator\n",
        "X_train = np.loadtxt('/content/drive/MyDrive/Image Classification CNN Keras Dataset/input.csv', delimiter = ',')\n",
        "Y_train = np.loadtxt('/content/drive/MyDrive/Image Classification CNN Keras Dataset/labels.csv', delimiter = ',')\n",
        "\n",
        "X_test = np.loadtxt('/content/drive/MyDrive/Image Classification CNN Keras Dataset/input_test.csv', delimiter = ',')\n",
        "Y_test = np.loadtxt('/content/drive/MyDrive/Image Classification CNN Keras Dataset/labels_test.csv', delimiter = ',')\n",
        "\n",
        "X_train = X_train.reshape(len(X_train), 100, 100, 3)\n",
        "Y_train = Y_train.reshape(len(Y_train), 1)\n",
        "\n",
        "X_test = X_test.reshape(len(X_test), 100, 100, 3)\n",
        "Y_test = Y_test.reshape(len(Y_test), 1)\n",
        "#Normalization:\n",
        "\n",
        "#The pixel values in images are typically in the range of 0 to 255. Normalizing the pixel values to the range [0, 1] is a common preprocessing step in machine learning.\n",
        "#By dividing X_train and X_test by 255.0, the pixel values are scaled to the range [0, 1]. This normalization helps in training neural networks more effectively, as it ensures that the input values are within a similar scale.\n",
        "X_train = X_train/255.0\n",
        "X_test = X_test/255.0\n",
        "\n",
        "model = Sequential()\n",
        "\n",
        "model.add(Conv2D(32, (3,3), activation = 'relu', input_shape = (100, 100, 3)))\n",
        "model.add(MaxPooling2D((2,2)))\n",
        "\n",
        "model.add(Conv2D(32, (3,3), activation = 'relu'))\n",
        "model.add(MaxPooling2D((2,2)))\n",
        "\n",
        "model.add(Conv2D(32, (3,3), activation = 'relu'))\n",
        "model.add(MaxPooling2D((2,2)))\n",
        "\n",
        "model.add(Conv2D(32, (3,3), activation = 'relu'))\n",
        "model.add(MaxPooling2D((2,2)))\n",
        "\n",
        "model.add(Conv2D(32, (3,3), activation = 'relu'))\n",
        "model.add(MaxPooling2D((2,2)))\n",
        "\n",
        "model.add(Flatten())\n",
        "model.add(Dense(64, activation = 'relu'))\n",
        "model.add(Dense(1, activation = 'sigmoid'))\n",
        "\n",
        "model.compile(loss = 'binary_crossentropy', optimizer = 'adam', metrics = ['accuracy'])\n",
        "\n",
        "model.fit(X_train, Y_train, epochs = 5, batch_size = 64)\n",
        "model.evaluate(X_test, Y_test)"
      ],
      "metadata": {
        "id": "pVmaVgstw9cS",
        "outputId": "fbd6b0f8-7c58-41fa-e086-8a7c70392580",
        "colab": {
          "base_uri": "https://localhost:8080/"
        }
      },
      "execution_count": 28,
      "outputs": [
        {
          "output_type": "stream",
          "name": "stdout",
          "text": [
            "Epoch 1/5\n",
            "32/32 [==============================] - 27s 762ms/step - loss: 0.6935 - accuracy: 0.5015\n",
            "Epoch 2/5\n",
            "32/32 [==============================] - 31s 981ms/step - loss: 0.6917 - accuracy: 0.5245\n",
            "Epoch 3/5\n",
            "32/32 [==============================] - 25s 775ms/step - loss: 0.6806 - accuracy: 0.5600\n",
            "Epoch 4/5\n",
            "32/32 [==============================] - 26s 811ms/step - loss: 0.6840 - accuracy: 0.5370\n",
            "Epoch 5/5\n",
            "32/32 [==============================] - 25s 764ms/step - loss: 0.6597 - accuracy: 0.6185\n",
            "13/13 [==============================] - 1s 93ms/step - loss: 0.6482 - accuracy: 0.6175\n"
          ]
        },
        {
          "output_type": "execute_result",
          "data": {
            "text/plain": [
              "[0.6482143998146057, 0.6175000071525574]"
            ]
          },
          "metadata": {},
          "execution_count": 28
        }
      ]
    },
    {
      "cell_type": "code",
      "source": [
        "import numpy as np\n",
        "from tensorflow.keras.models import Sequential\n",
        "from tensorflow.keras.layers import Conv2D, MaxPooling2D, Dense, Flatten, Dropout\n",
        "from tensorflow.keras.optimizers import Adam\n",
        "from tensorflow.keras.callbacks import LearningRateScheduler\n",
        "from tensorflow.keras.preprocessing.image import ImageDataGenerator\n",
        "\n",
        "# Load data\n",
        "X_train = np.loadtxt('/content/drive/MyDrive/Image Classification CNN Keras Dataset/input.csv', delimiter=',')\n",
        "Y_train = np.loadtxt('/content/drive/MyDrive/Image Classification CNN Keras Dataset/labels.csv', delimiter=',')\n",
        "X_test = np.loadtxt('/content/drive/MyDrive/Image Classification CNN Keras Dataset/input_test.csv', delimiter=',')\n",
        "Y_test = np.loadtxt('/content/drive/MyDrive/Image Classification CNN Keras Dataset/labels_test.csv', delimiter=',')\n",
        "\n",
        "# Reshape data\n",
        "X_train = X_train.reshape(len(X_train), 100, 100, 3)\n",
        "Y_train = Y_train.reshape(len(Y_train), 1)\n",
        "X_test = X_test.reshape(len(X_test), 100, 100, 3)\n",
        "Y_test = Y_test.reshape(len(Y_test), 1)\n",
        "\n",
        "# Normalize data\n",
        "X_train = X_train / 255.0\n",
        "X_test = X_test / 255.0\n",
        "\n",
        "# Data augmentation\n",
        "datagen = ImageDataGenerator(\n",
        "    rotation_range=40,\n",
        "    width_shift_range=0.2,\n",
        "    height_shift_range=0.2,\n",
        "    shear_range=0.2,\n",
        "    zoom_range=0.2,\n",
        "    horizontal_flip=True,\n",
        "    fill_mode='nearest'\n",
        ")\n",
        "datagen.fit(X_train)\n",
        "\n",
        "# Model\n",
        "model = Sequential()\n",
        "\n",
        "model.add(Conv2D(32, (3, 3), activation='relu', input_shape=(100, 100, 3)))\n",
        "model.add(MaxPooling2D((2, 2)))\n",
        "\n",
        "model.add(Conv2D(32, (3, 3), activation='relu'))\n",
        "model.add(MaxPooling2D((2, 2)))\n",
        "\n",
        "model.add(Conv2D(32, (3, 3), activation='relu'))\n",
        "model.add(MaxPooling2D((2, 2)))\n",
        "\n",
        "model.add(Conv2D(32, (3, 3), activation='relu'))\n",
        "model.add(MaxPooling2D((2, 2)))\n",
        "\n",
        "model.add(Conv2D(64, (3, 3), activation='relu'))\n",
        "model.add(MaxPooling2D((2, 2)))\n",
        "\n",
        "model.add(Flatten())\n",
        "model.add(Dense(64, activation='relu'))\n",
        "model.add(Dropout(0.5))\n",
        "model.add(Dense(1, activation='sigmoid'))\n",
        "\n",
        "# Compile model\n",
        "optimizer = Adam(learning_rate=0.001)\n",
        "model.compile(loss='binary_crossentropy', optimizer=optimizer, metrics=['accuracy'])\n",
        "\n",
        "# Learning rate scheduler\n",
        "def lr_schedule(epoch):\n",
        "    lr = 0.001\n",
        "    if epoch > 5:\n",
        "        lr *= 0.5\n",
        "    return lr\n",
        "\n",
        "lr_scheduler = LearningRateScheduler(lr_schedule)\n",
        "\n",
        "# Model training\n",
        "model.fit(datagen.flow(X_train, Y_train, batch_size=64), epochs=10, callbacks=[lr_scheduler])\n",
        "\n",
        "# Model evaluation\n",
        "model.evaluate(X_test, Y_test)\n"
      ],
      "metadata": {
        "id": "xLwck-U0yx0T",
        "outputId": "4e14820e-8474-4ca4-9e15-9fb53e275202",
        "colab": {
          "base_uri": "https://localhost:8080/"
        }
      },
      "execution_count": 29,
      "outputs": [
        {
          "output_type": "stream",
          "name": "stdout",
          "text": [
            "Epoch 1/10\n",
            "32/32 [==============================] - 31s 912ms/step - loss: 0.6947 - accuracy: 0.5095 - lr: 0.0010\n",
            "Epoch 2/10\n",
            "32/32 [==============================] - 36s 1s/step - loss: 0.6943 - accuracy: 0.5045 - lr: 0.0010\n",
            "Epoch 3/10\n",
            "32/32 [==============================] - 30s 964ms/step - loss: 0.6934 - accuracy: 0.4975 - lr: 0.0010\n",
            "Epoch 4/10\n",
            "32/32 [==============================] - 30s 900ms/step - loss: 0.6931 - accuracy: 0.5025 - lr: 0.0010\n",
            "Epoch 5/10\n",
            "32/32 [==============================] - 32s 989ms/step - loss: 0.6925 - accuracy: 0.5210 - lr: 0.0010\n",
            "Epoch 6/10\n",
            "32/32 [==============================] - 28s 880ms/step - loss: 0.6922 - accuracy: 0.5225 - lr: 0.0010\n",
            "Epoch 7/10\n",
            "32/32 [==============================] - 31s 979ms/step - loss: 0.6888 - accuracy: 0.5235 - lr: 5.0000e-04\n",
            "Epoch 8/10\n",
            "32/32 [==============================] - 29s 881ms/step - loss: 0.6847 - accuracy: 0.5585 - lr: 5.0000e-04\n",
            "Epoch 9/10\n",
            "32/32 [==============================] - 32s 983ms/step - loss: 0.6865 - accuracy: 0.5565 - lr: 5.0000e-04\n",
            "Epoch 10/10\n",
            "32/32 [==============================] - 29s 879ms/step - loss: 0.6839 - accuracy: 0.5625 - lr: 5.0000e-04\n",
            "13/13 [==============================] - 1s 89ms/step - loss: 0.6720 - accuracy: 0.6250\n"
          ]
        },
        {
          "output_type": "execute_result",
          "data": {
            "text/plain": [
              "[0.6720110177993774, 0.625]"
            ]
          },
          "metadata": {},
          "execution_count": 29
        }
      ]
    }
  ]
}